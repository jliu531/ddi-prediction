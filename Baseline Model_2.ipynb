{
 "cells": [
  {
   "cell_type": "markdown",
   "metadata": {},
   "source": [
    "### Baseline Model"
   ]
  },
  {
   "cell_type": "markdown",
   "metadata": {},
   "source": [
    "Here, we implement bigram Naive Bayes as a baseline model to compare future models to. We choose a bigram model based on the exploratory data analysis indicating the certain phrases are seen more in non drug-drug interaction sentences than in sentences with drug-drug interactions. To normalize occurence count, we adjust frequencies with TF-IDF."
   ]
  },
  {
   "cell_type": "code",
   "execution_count": 1,
   "metadata": {
    "collapsed": true
   },
   "outputs": [],
   "source": [
    "import pandas as pd\n",
    "import numpy as np\n",
    "import nltk\n",
    "import sklearn\n",
    "import bisect\n",
    "from scipy import sparse\n",
    "from sklearn.base import TransformerMixin\n",
    "from sklearn.naive_bayes import MultinomialNB\n",
    "from sklearn.pipeline import Pipeline, FeatureUnion\n",
    "from sklearn.preprocessing import FunctionTransformer, LabelEncoder\n",
    "from sklearn.feature_extraction.text import CountVectorizer\n",
    "from sklearn.feature_extraction.text import TfidfTransformer\n",
    "from sklearn.metrics import classification_report, f1_score, accuracy_score\n",
    "from sklearn.model_selection import GridSearchCV"
   ]
  },
  {
   "cell_type": "markdown",
   "metadata": {},
   "source": [
    "#### Baseline Model with Drug Pairs"
   ]
  },
  {
   "cell_type": "markdown",
   "metadata": {},
   "source": [
    "As each sentence can have multiple drugs mentioned and since we are looking at potential drug pairs that cause DDIs, the same sentences can have multiple instances of DDIs with different drug pairs. For example, a sentence like \"It is possible that ketoconazole and itraconazole may inhibit the metabolism of carbamazepine.\" has three drug pairs to consider: ketoconazole and itraconazole; ketoconazole and carbamazepine; and itraconazole and carbamazepine. Since each entry of the dataset considers a sentence and a drug pair, we use the sentence and drug pair as features for our Naive model. "
   ]
  },
  {
   "cell_type": "code",
   "execution_count": 3,
   "metadata": {
    "collapsed": true
   },
   "outputs": [],
   "source": [
    "colnames = ['sentence_id', 'text', 'pair_id', 'drug1_id', 'drug1', 'drug1_type', 'drug2_id', 'drug2', 'drug2_type', 'ddi', 'ddi_type']\n",
    "train_data = pd.read_csv('./ddi_train.csv', header = None, names = colnames)\n",
    "test_data = pd.read_csv('./ddi_test.csv', header = None, names = colnames)"
   ]
  },
  {
   "cell_type": "code",
   "execution_count": 4,
   "metadata": {
    "collapsed": true
   },
   "outputs": [],
   "source": [
    "def clean_data(data, test = False):\n",
    "    '''performs data cleaning steps'''\n",
    "    data['ddi_type'] = data['ddi_type'].fillna('none')\n",
    "    data['drug1'] = data['drug1'].map(lambda x: x.lower())\n",
    "    data['drug2'] = data['drug2'].map(lambda x: x.lower())\n",
    "    \n",
    "    ## replace unseen drugs in the test set with '<unknown>'\n",
    "    if test:\n",
    "        drug1 = np.unique(train_data['drug1'])\n",
    "        drug2 = np.unique(train_data['drug2'])\n",
    "        data['drug1'] = data['drug1'].map(lambda x: '<unknown>' if x not in drug1 else x)\n",
    "        data['drug2'] = data['drug2'].map(lambda x: '<unknown>' if x not in drug2 else x)\n",
    "\n",
    "def select_drug1(data):\n",
    "    return data['drug1']\n",
    "\n",
    "def select_drug2(data):\n",
    "    return data['drug2']\n",
    "\n",
    "def make_sparse(array):\n",
    "    return sparse.csr_matrix(np.reshape(array, (-1, 1)))\n",
    "\n",
    "def tokenize(data, tokenizer_function = nltk.word_tokenize):\n",
    "    return data.apply(lambda row: \" \".join(tokenizer_function(row['text'])), axis = 1)\n",
    "\n",
    "#A custom LabelEncoder is needed because the sklearn pipeline assumes that LabelEncoder is defined to take three\n",
    "#positional arguments (self, x, y) when it only needs two (self, x). We add a argument for y that defaults to 0.\n",
    "class MyLabelEncoder(TransformerMixin):\n",
    "    def __init__(self, *args, **kwargs):\n",
    "        self.encoder = LabelEncoder(*args, **kwargs)\n",
    "    def fit(self, x, y = 0):\n",
    "        self.encoder.fit(x)\n",
    "        \n",
    "        #add an <unknown> tag to classes to corrent for unseen label errors in fitting\n",
    "        classes = self.encoder.classes_.tolist()\n",
    "        bisect.insort_left(classes, '<unknown>')\n",
    "        self.classes_ = np.array(classes)\n",
    "        self.encoder.classes_ = self.classes_\n",
    "        #print('<unknown>' in self.classes_)\n",
    "        \n",
    "        return self\n",
    "    def transform(self, x, y = 0):\n",
    "        \n",
    "        #bisect.insort_left(classes, '<unknown>')\n",
    "        #self.classes_ = classes\n",
    "        #self.encoder.classes_ = classes\n",
    "        return self.encoder.transform(x)\n",
    "    \n",
    "\n",
    "drug1_pipeline = Pipeline(steps = [\n",
    "    ('select', FunctionTransformer(select_drug1, validate = False)),\n",
    "    ('encode', MyLabelEncoder()),\n",
    "    ('to_sparse', FunctionTransformer(make_sparse, validate = False))\n",
    "])\n",
    "\n",
    "drug2_pipeline = Pipeline(steps = [\n",
    "    ('select', FunctionTransformer(select_drug2, validate = False)),\n",
    "    ('encode', MyLabelEncoder()),\n",
    "    ('to_sparse', FunctionTransformer(make_sparse, validate = False))\n",
    "])\n",
    "\n",
    "text_pipeline = Pipeline(steps = [\n",
    "    ('tokenizer', FunctionTransformer(tokenize, validate = False)),\n",
    "    ('vectorizer', CountVectorizer(ngram_range = (1, 1)))\n",
    "])\n",
    "\n",
    "preprocessing_pipeline = FeatureUnion([('drug1', drug1_pipeline), \n",
    "                                       ('drug2', drug2_pipeline), \n",
    "                                       ('text', text_pipeline)])\n",
    "\n",
    "model_pipeline = Pipeline(steps = [('preprocess', preprocessing_pipeline),\n",
    "                                   ('classifier', MultinomialNB())\n",
    "])"
   ]
  },
  {
   "cell_type": "code",
   "execution_count": 5,
   "metadata": {
    "collapsed": true
   },
   "outputs": [],
   "source": [
    "clean_data(train_data)\n",
    "clean_data(test_data, test = True)"
   ]
  },
  {
   "cell_type": "code",
   "execution_count": 6,
   "metadata": {},
   "outputs": [
    {
     "data": {
      "text/html": [
       "<div>\n",
       "<style>\n",
       "    .dataframe thead tr:only-child th {\n",
       "        text-align: right;\n",
       "    }\n",
       "\n",
       "    .dataframe thead th {\n",
       "        text-align: left;\n",
       "    }\n",
       "\n",
       "    .dataframe tbody tr th {\n",
       "        vertical-align: top;\n",
       "    }\n",
       "</style>\n",
       "<table border=\"1\" class=\"dataframe\">\n",
       "  <thead>\n",
       "    <tr style=\"text-align: right;\">\n",
       "      <th></th>\n",
       "      <th>sentence_id</th>\n",
       "      <th>text</th>\n",
       "      <th>pair_id</th>\n",
       "      <th>drug1_id</th>\n",
       "      <th>drug1</th>\n",
       "      <th>drug1_type</th>\n",
       "      <th>drug2_id</th>\n",
       "      <th>drug2</th>\n",
       "      <th>drug2_type</th>\n",
       "      <th>ddi</th>\n",
       "      <th>ddi_type</th>\n",
       "    </tr>\n",
       "  </thead>\n",
       "  <tbody>\n",
       "    <tr>\n",
       "      <th>0</th>\n",
       "      <td>DDI-DrugBank.d519.s3</td>\n",
       "      <td>laboratory tests response to plenaxis should b...</td>\n",
       "      <td>DDI-DrugBank.d519.s3.p0</td>\n",
       "      <td>DDI-DrugBank.d519.s3.e0</td>\n",
       "      <td>plenaxis</td>\n",
       "      <td>brand</td>\n",
       "      <td>DDI-DrugBank.d519.s3.e1</td>\n",
       "      <td>testosterone</td>\n",
       "      <td>drug</td>\n",
       "      <td>False</td>\n",
       "      <td>none</td>\n",
       "    </tr>\n",
       "    <tr>\n",
       "      <th>1</th>\n",
       "      <td>DDI-DrugBank.d297.s1</td>\n",
       "      <td>population pharmacokinetic analyses revealed t...</td>\n",
       "      <td>DDI-DrugBank.d297.s1.p0</td>\n",
       "      <td>DDI-DrugBank.d297.s1.e0</td>\n",
       "      <td>mtx</td>\n",
       "      <td>drug</td>\n",
       "      <td>DDI-DrugBank.d297.s1.e1</td>\n",
       "      <td>nsaids</td>\n",
       "      <td>group</td>\n",
       "      <td>False</td>\n",
       "      <td>none</td>\n",
       "    </tr>\n",
       "    <tr>\n",
       "      <th>2</th>\n",
       "      <td>DDI-DrugBank.d297.s1</td>\n",
       "      <td>population pharmacokinetic analyses revealed t...</td>\n",
       "      <td>DDI-DrugBank.d297.s1.p1</td>\n",
       "      <td>DDI-DrugBank.d297.s1.e0</td>\n",
       "      <td>mtx</td>\n",
       "      <td>drug</td>\n",
       "      <td>DDI-DrugBank.d297.s1.e2</td>\n",
       "      <td>corticosteroids</td>\n",
       "      <td>group</td>\n",
       "      <td>False</td>\n",
       "      <td>none</td>\n",
       "    </tr>\n",
       "    <tr>\n",
       "      <th>3</th>\n",
       "      <td>DDI-DrugBank.d297.s1</td>\n",
       "      <td>population pharmacokinetic analyses revealed t...</td>\n",
       "      <td>DDI-DrugBank.d297.s1.p2</td>\n",
       "      <td>DDI-DrugBank.d297.s1.e0</td>\n",
       "      <td>mtx</td>\n",
       "      <td>drug</td>\n",
       "      <td>DDI-DrugBank.d297.s1.e3</td>\n",
       "      <td>tnf blocking agents</td>\n",
       "      <td>group</td>\n",
       "      <td>False</td>\n",
       "      <td>none</td>\n",
       "    </tr>\n",
       "    <tr>\n",
       "      <th>4</th>\n",
       "      <td>DDI-DrugBank.d297.s1</td>\n",
       "      <td>population pharmacokinetic analyses revealed t...</td>\n",
       "      <td>DDI-DrugBank.d297.s1.p3</td>\n",
       "      <td>DDI-DrugBank.d297.s1.e0</td>\n",
       "      <td>mtx</td>\n",
       "      <td>drug</td>\n",
       "      <td>DDI-DrugBank.d297.s1.e4</td>\n",
       "      <td>abatacept</td>\n",
       "      <td>drug</td>\n",
       "      <td>False</td>\n",
       "      <td>none</td>\n",
       "    </tr>\n",
       "  </tbody>\n",
       "</table>\n",
       "</div>"
      ],
      "text/plain": [
       "            sentence_id                                               text  \\\n",
       "0  DDI-DrugBank.d519.s3  laboratory tests response to plenaxis should b...   \n",
       "1  DDI-DrugBank.d297.s1  population pharmacokinetic analyses revealed t...   \n",
       "2  DDI-DrugBank.d297.s1  population pharmacokinetic analyses revealed t...   \n",
       "3  DDI-DrugBank.d297.s1  population pharmacokinetic analyses revealed t...   \n",
       "4  DDI-DrugBank.d297.s1  population pharmacokinetic analyses revealed t...   \n",
       "\n",
       "                   pair_id                 drug1_id     drug1 drug1_type  \\\n",
       "0  DDI-DrugBank.d519.s3.p0  DDI-DrugBank.d519.s3.e0  plenaxis      brand   \n",
       "1  DDI-DrugBank.d297.s1.p0  DDI-DrugBank.d297.s1.e0       mtx       drug   \n",
       "2  DDI-DrugBank.d297.s1.p1  DDI-DrugBank.d297.s1.e0       mtx       drug   \n",
       "3  DDI-DrugBank.d297.s1.p2  DDI-DrugBank.d297.s1.e0       mtx       drug   \n",
       "4  DDI-DrugBank.d297.s1.p3  DDI-DrugBank.d297.s1.e0       mtx       drug   \n",
       "\n",
       "                  drug2_id                drug2 drug2_type    ddi ddi_type  \n",
       "0  DDI-DrugBank.d519.s3.e1         testosterone       drug  False     none  \n",
       "1  DDI-DrugBank.d297.s1.e1               nsaids      group  False     none  \n",
       "2  DDI-DrugBank.d297.s1.e2      corticosteroids      group  False     none  \n",
       "3  DDI-DrugBank.d297.s1.e3  tnf blocking agents      group  False     none  \n",
       "4  DDI-DrugBank.d297.s1.e4            abatacept       drug  False     none  "
      ]
     },
     "execution_count": 6,
     "metadata": {},
     "output_type": "execute_result"
    }
   ],
   "source": [
    "train_data.head()"
   ]
  },
  {
   "cell_type": "code",
   "execution_count": 7,
   "metadata": {},
   "outputs": [
    {
     "data": {
      "text/html": [
       "<div>\n",
       "<style>\n",
       "    .dataframe thead tr:only-child th {\n",
       "        text-align: right;\n",
       "    }\n",
       "\n",
       "    .dataframe thead th {\n",
       "        text-align: left;\n",
       "    }\n",
       "\n",
       "    .dataframe tbody tr th {\n",
       "        vertical-align: top;\n",
       "    }\n",
       "</style>\n",
       "<table border=\"1\" class=\"dataframe\">\n",
       "  <thead>\n",
       "    <tr style=\"text-align: right;\">\n",
       "      <th></th>\n",
       "      <th>sentence_id</th>\n",
       "      <th>text</th>\n",
       "      <th>pair_id</th>\n",
       "      <th>drug1_id</th>\n",
       "      <th>drug1</th>\n",
       "      <th>drug1_type</th>\n",
       "      <th>drug2_id</th>\n",
       "      <th>drug2</th>\n",
       "      <th>drug2_type</th>\n",
       "      <th>ddi</th>\n",
       "      <th>ddi_type</th>\n",
       "    </tr>\n",
       "  </thead>\n",
       "  <tbody>\n",
       "    <tr>\n",
       "      <th>0</th>\n",
       "      <td>DDI-DrugBank.d610.s0</td>\n",
       "      <td>pharmacokinetic properties of abacavir were no...</td>\n",
       "      <td>DDI-DrugBank.d610.s0.p0</td>\n",
       "      <td>DDI-DrugBank.d610.s0.e0</td>\n",
       "      <td>&lt;unknown&gt;</td>\n",
       "      <td>drug</td>\n",
       "      <td>DDI-DrugBank.d610.s0.e1</td>\n",
       "      <td>lamivudine</td>\n",
       "      <td>drug</td>\n",
       "      <td>False</td>\n",
       "      <td>none</td>\n",
       "    </tr>\n",
       "    <tr>\n",
       "      <th>1</th>\n",
       "      <td>DDI-DrugBank.d610.s0</td>\n",
       "      <td>pharmacokinetic properties of abacavir were no...</td>\n",
       "      <td>DDI-DrugBank.d610.s0.p1</td>\n",
       "      <td>DDI-DrugBank.d610.s0.e0</td>\n",
       "      <td>&lt;unknown&gt;</td>\n",
       "      <td>drug</td>\n",
       "      <td>DDI-DrugBank.d610.s0.e2</td>\n",
       "      <td>zidovudine</td>\n",
       "      <td>drug</td>\n",
       "      <td>False</td>\n",
       "      <td>none</td>\n",
       "    </tr>\n",
       "    <tr>\n",
       "      <th>2</th>\n",
       "      <td>DDI-DrugBank.d610.s0</td>\n",
       "      <td>pharmacokinetic properties of abacavir were no...</td>\n",
       "      <td>DDI-DrugBank.d610.s0.p2</td>\n",
       "      <td>DDI-DrugBank.d610.s0.e0</td>\n",
       "      <td>&lt;unknown&gt;</td>\n",
       "      <td>drug</td>\n",
       "      <td>DDI-DrugBank.d610.s0.e3</td>\n",
       "      <td>lamivudine</td>\n",
       "      <td>drug</td>\n",
       "      <td>False</td>\n",
       "      <td>none</td>\n",
       "    </tr>\n",
       "    <tr>\n",
       "      <th>3</th>\n",
       "      <td>DDI-DrugBank.d610.s0</td>\n",
       "      <td>pharmacokinetic properties of abacavir were no...</td>\n",
       "      <td>DDI-DrugBank.d610.s0.p3</td>\n",
       "      <td>DDI-DrugBank.d610.s0.e0</td>\n",
       "      <td>&lt;unknown&gt;</td>\n",
       "      <td>drug</td>\n",
       "      <td>DDI-DrugBank.d610.s0.e4</td>\n",
       "      <td>zidovudine</td>\n",
       "      <td>drug</td>\n",
       "      <td>False</td>\n",
       "      <td>none</td>\n",
       "    </tr>\n",
       "    <tr>\n",
       "      <th>4</th>\n",
       "      <td>DDI-DrugBank.d610.s0</td>\n",
       "      <td>pharmacokinetic properties of abacavir were no...</td>\n",
       "      <td>DDI-DrugBank.d610.s0.p4</td>\n",
       "      <td>DDI-DrugBank.d610.s0.e1</td>\n",
       "      <td>lamivudine</td>\n",
       "      <td>drug</td>\n",
       "      <td>DDI-DrugBank.d610.s0.e2</td>\n",
       "      <td>zidovudine</td>\n",
       "      <td>drug</td>\n",
       "      <td>False</td>\n",
       "      <td>none</td>\n",
       "    </tr>\n",
       "  </tbody>\n",
       "</table>\n",
       "</div>"
      ],
      "text/plain": [
       "            sentence_id                                               text  \\\n",
       "0  DDI-DrugBank.d610.s0  pharmacokinetic properties of abacavir were no...   \n",
       "1  DDI-DrugBank.d610.s0  pharmacokinetic properties of abacavir were no...   \n",
       "2  DDI-DrugBank.d610.s0  pharmacokinetic properties of abacavir were no...   \n",
       "3  DDI-DrugBank.d610.s0  pharmacokinetic properties of abacavir were no...   \n",
       "4  DDI-DrugBank.d610.s0  pharmacokinetic properties of abacavir were no...   \n",
       "\n",
       "                   pair_id                 drug1_id       drug1 drug1_type  \\\n",
       "0  DDI-DrugBank.d610.s0.p0  DDI-DrugBank.d610.s0.e0   <unknown>       drug   \n",
       "1  DDI-DrugBank.d610.s0.p1  DDI-DrugBank.d610.s0.e0   <unknown>       drug   \n",
       "2  DDI-DrugBank.d610.s0.p2  DDI-DrugBank.d610.s0.e0   <unknown>       drug   \n",
       "3  DDI-DrugBank.d610.s0.p3  DDI-DrugBank.d610.s0.e0   <unknown>       drug   \n",
       "4  DDI-DrugBank.d610.s0.p4  DDI-DrugBank.d610.s0.e1  lamivudine       drug   \n",
       "\n",
       "                  drug2_id       drug2 drug2_type    ddi ddi_type  \n",
       "0  DDI-DrugBank.d610.s0.e1  lamivudine       drug  False     none  \n",
       "1  DDI-DrugBank.d610.s0.e2  zidovudine       drug  False     none  \n",
       "2  DDI-DrugBank.d610.s0.e3  lamivudine       drug  False     none  \n",
       "3  DDI-DrugBank.d610.s0.e4  zidovudine       drug  False     none  \n",
       "4  DDI-DrugBank.d610.s0.e2  zidovudine       drug  False     none  "
      ]
     },
     "execution_count": 7,
     "metadata": {},
     "output_type": "execute_result"
    }
   ],
   "source": [
    "test_data.head()"
   ]
  },
  {
   "cell_type": "code",
   "execution_count": 8,
   "metadata": {
    "collapsed": true
   },
   "outputs": [],
   "source": [
    "y_train_identification = train_data['ddi']\n",
    "y_train_classification = train_data['ddi_type']\n",
    "y_test_identification = test_data['ddi']\n",
    "y_test_classification = test_data['ddi_type']"
   ]
  },
  {
   "cell_type": "markdown",
   "metadata": {},
   "source": [
    "#### Predict DDI Identification"
   ]
  },
  {
   "cell_type": "code",
   "execution_count": 9,
   "metadata": {},
   "outputs": [
    {
     "data": {
      "text/plain": [
       "Pipeline(steps=[('preprocess', FeatureUnion(n_jobs=1,\n",
       "       transformer_list=[('drug1', Pipeline(steps=[('select', FunctionTransformer(accept_sparse=False,\n",
       "          func=<function select_drug1 at 0x00000209F3E71598>,\n",
       "          inv_kw_args=None, inverse_func=None, kw_args=None, pass_y=False,\n",
       "          valid...nsformer_weights=None)), ('classifier', MultinomialNB(alpha=1.0, class_prior=None, fit_prior=True))])"
      ]
     },
     "execution_count": 9,
     "metadata": {},
     "output_type": "execute_result"
    }
   ],
   "source": [
    "model_pipeline.fit(train_data, y_train_identification)"
   ]
  },
  {
   "cell_type": "code",
   "execution_count": 10,
   "metadata": {},
   "outputs": [],
   "source": [
    "prediction = model_pipeline.predict(test_data)"
   ]
  },
  {
   "cell_type": "code",
   "execution_count": 11,
   "metadata": {},
   "outputs": [
    {
     "data": {
      "text/plain": [
       "0.4734544184421935"
      ]
     },
     "execution_count": 11,
     "metadata": {},
     "output_type": "execute_result"
    }
   ],
   "source": [
    "accuracy_score(y_test_identification, prediction)"
   ]
  },
  {
   "cell_type": "code",
   "execution_count": 12,
   "metadata": {},
   "outputs": [
    {
     "data": {
      "text/plain": [
       "0.25167535368577815"
      ]
     },
     "execution_count": 12,
     "metadata": {},
     "output_type": "execute_result"
    }
   ],
   "source": [
    "f1_score(y_test_identification, prediction)"
   ]
  },
  {
   "cell_type": "code",
   "execution_count": 13,
   "metadata": {},
   "outputs": [
    {
     "name": "stdout",
     "output_type": "stream",
     "text": [
      "             precision    recall  f1-score   support\n",
      "\n",
      "      False       0.82      0.46      0.59      4743\n",
      "       True       0.17      0.52      0.25       983\n",
      "\n",
      "avg / total       0.71      0.47      0.54      5726\n",
      "\n"
     ]
    }
   ],
   "source": [
    "print(classification_report(y_test_identification, prediction))"
   ]
  },
  {
   "cell_type": "code",
   "execution_count": 14,
   "metadata": {},
   "outputs": [
    {
     "data": {
      "text/plain": [
       "Pipeline(steps=[('preprocess', FeatureUnion(n_jobs=1,\n",
       "       transformer_list=[('drug1', Pipeline(steps=[('select', FunctionTransformer(accept_sparse=False,\n",
       "          func=<function select_drug1 at 0x00000209F3E71598>,\n",
       "          inv_kw_args=None, inverse_func=None, kw_args=None, pass_y=False,\n",
       "          valid...nsformer_weights=None)), ('classifier', MultinomialNB(alpha=1.0, class_prior=None, fit_prior=True))])"
      ]
     },
     "execution_count": 14,
     "metadata": {},
     "output_type": "execute_result"
    }
   ],
   "source": [
    "model_pipeline.fit(train_data, y_train_classification)"
   ]
  },
  {
   "cell_type": "code",
   "execution_count": 15,
   "metadata": {},
   "outputs": [],
   "source": [
    "prediction = model_pipeline.predict(test_data)"
   ]
  },
  {
   "cell_type": "code",
   "execution_count": 16,
   "metadata": {},
   "outputs": [
    {
     "data": {
      "text/plain": [
       "0.3010827803003842"
      ]
     },
     "execution_count": 16,
     "metadata": {},
     "output_type": "execute_result"
    }
   ],
   "source": [
    "accuracy_score(y_test_classification, prediction)"
   ]
  },
  {
   "cell_type": "code",
   "execution_count": 17,
   "metadata": {},
   "outputs": [
    {
     "data": {
      "text/plain": [
       "0.3010827803003842"
      ]
     },
     "execution_count": 17,
     "metadata": {},
     "output_type": "execute_result"
    }
   ],
   "source": [
    "f1_score(y_test_classification, prediction, average = 'micro')"
   ]
  },
  {
   "cell_type": "code",
   "execution_count": 18,
   "metadata": {},
   "outputs": [
    {
     "name": "stdout",
     "output_type": "stream",
     "text": [
      "             precision    recall  f1-score   support\n",
      "\n",
      "     advise       0.10      0.46      0.17       222\n",
      "     effect       0.12      0.36      0.18       363\n",
      "        int       0.05      0.54      0.08        96\n",
      "  mechanism       0.12      0.37      0.18       302\n",
      "       none       0.87      0.28      0.42      4743\n",
      "\n",
      "avg / total       0.74      0.30      0.38      5726\n",
      "\n"
     ]
    }
   ],
   "source": [
    "print(classification_report(y_test_classification, prediction))"
   ]
  },
  {
   "cell_type": "markdown",
   "metadata": {},
   "source": [
    "The model seems to be best at predicting whether no drug-drug interaction exists. One reason for this is that there is an overwhelming amount of drug pairs that do not describe drug-drug interactions while the rest of the classifications suffer from sparsity issues. This may be aleviated in the future by discarding negative pairs from the initial training set, a strategy commonly used in the literature."
   ]
  },
  {
   "cell_type": "code",
   "execution_count": 19,
   "metadata": {},
   "outputs": [
    {
     "data": {
      "text/plain": [
       "none         23846\n",
       "effect        1690\n",
       "mechanism     1325\n",
       "advise         826\n",
       "int            188\n",
       "Name: ddi_type, dtype: int64"
      ]
     },
     "execution_count": 19,
     "metadata": {},
     "output_type": "execute_result"
    }
   ],
   "source": [
    "train_data['ddi_type'].value_counts()"
   ]
  },
  {
   "cell_type": "code",
   "execution_count": null,
   "metadata": {
    "collapsed": true
   },
   "outputs": [],
   "source": []
  }
 ],
 "metadata": {
  "kernelspec": {
   "display_name": "Python 3",
   "language": "python",
   "name": "python3"
  },
  "language_info": {
   "codemirror_mode": {
    "name": "ipython",
    "version": 3
   },
   "file_extension": ".py",
   "mimetype": "text/x-python",
   "name": "python",
   "nbconvert_exporter": "python",
   "pygments_lexer": "ipython3",
   "version": "3.6.1"
  }
 },
 "nbformat": 4,
 "nbformat_minor": 2
}
