{
 "cells": [
  {
   "cell_type": "markdown",
   "metadata": {},
   "source": [
    "### Data Preprocessing"
   ]
  },
  {
   "cell_type": "markdown",
   "metadata": {},
   "source": [
    "This notebook defines functions that implement the following preprocessing functions. See function doc strings for more information.\n",
    "\n",
    "1. Anonymize drug mentions in text.\n",
    "2. Identify ddi-pairs of the same drug and flag them for removal.\n",
    "3. Identify the pharses that have 'not', n't, or 'no' and flag for removal.\n",
    "4. Identify drug pair mentions in the same coordinate structure and flag for removal.\n",
    "5. Identify instances where one drug is a special case of another and flag for removal. "
   ]
  },
  {
   "cell_type": "code",
   "execution_count": 9,
   "metadata": {
    "collapsed": true
   },
   "outputs": [],
   "source": [
    "from copy import deepcopy\n",
    "import re\n",
    "import numpy as np\n",
    "import pandas as pd\n",
    "import matplotlib as plt\n",
    "import pickle"
   ]
  },
  {
   "cell_type": "code",
   "execution_count": 10,
   "metadata": {
    "collapsed": true
   },
   "outputs": [],
   "source": [
    "colnames = ['sentence_id', 'text', 'pair_id', 'drug1_id', 'drug1', 'drug1_type', 'drug2_id', 'drug2', 'drug2_type', 'ddi', 'ddi_type']\n",
    "train_data = pd.read_csv('./ddi_train.csv', header = None, names = colnames)\n",
    "test_data = pd.read_csv('./ddi_test.csv', header = None, names = colnames)"
   ]
  },
  {
   "cell_type": "code",
   "execution_count": 11,
   "metadata": {},
   "outputs": [],
   "source": [
    "train_data['drug1'] = train_data['drug1'].apply(lambda x: x.lower())\n",
    "train_data['drug2'] = train_data['drug2'].apply(lambda x: x.lower())\n",
    "test_data['drug1'] = test_data['drug1'].apply(lambda x: x.lower())\n",
    "test_data['drug2'] = test_data['drug2'].apply(lambda x: x.lower())"
   ]
  },
  {
   "cell_type": "code",
   "execution_count": 12,
   "metadata": {
    "collapsed": true
   },
   "outputs": [],
   "source": [
    "#mini set to test functions with\n",
    "mini_set = deepcopy(train_data.loc[1535:1545])"
   ]
  },
  {
   "cell_type": "code",
   "execution_count": 13,
   "metadata": {
    "collapsed": true
   },
   "outputs": [],
   "source": [
    "def anonymize_drugs(data):\n",
    "    '''replaces the drug mentions in the sentences with drug1, drug2, or drug0. The drug pair of interest is\n",
    "    replaced with drug1 and drug2 while other drug mentions in the sentence that are not part of the pair\n",
    "    are replaced with drug0\n",
    "    \n",
    "    Example:\n",
    "    \n",
    "    laboratory tests response to plenaxis should be monitored by measuring serum total testosterone \n",
    "    concentrations just prior to administration on day 29 and every 8 weeks thereafter.\n",
    "    \n",
    "    If the pair of interest is plenaxis and testosterone, this sentence becomes:\n",
    "    \n",
    "    laboratory tests response to drug1 should be monitored by measuring serum total drug2 \n",
    "    concentrations just prior to administration on day 29 and every 8 weeks thereafter.\n",
    "    '''\n",
    "    sentences = data['text']\n",
    "    drug1_list = data['drug1']\n",
    "    drug2_list = data['drug2']\n",
    "    drug_list = np.unique(np.concatenate([drug1_list, drug2_list]))\n",
    "    anonymized_text = []\n",
    "    if 'drug' in drug_list:\n",
    "        drug_list = np.delete(drug_list, np.where(drug_list == 'drug')[0][0])\n",
    "    for i in range(len(sentences)):\n",
    "        sentence = sentences.iloc[i]\n",
    "        #print(f'{drug1_list.iloc[i]}')\n",
    "        #print(f'{drug2_list.iloc[i]}')\n",
    "        #print(sentence)\n",
    "        drug1 = drug1_list.iloc[i]\n",
    "        drug2 = drug2_list.iloc[i]\n",
    "        if sentence.find(drug1) != -1:\n",
    "            try:\n",
    "                regex_drug1 = re.compile(f'{drug1_list.iloc[i]}[^a-zA-Z0-9]')\n",
    "\n",
    "                for m in re.finditer(regex_drug1, sentence):\n",
    "                    last_char_drug1 = sentence[m.end() - 1]\n",
    "                    if last_char_drug1 != ' ':\n",
    "                        sentence = regex_drug1.sub(f'drug1{last_char_drug1}', sentence, count = 1)\n",
    "                        break\n",
    "                    sentence = regex_drug1.sub(f'drug1 ', sentence, count = 1)\n",
    "                    break\n",
    "            except: #this is to avoid 'nothing to repeat' errors that occassionally occur for some reason when compiling an re\n",
    "                sentence = sentence.replace(drug1, 'drug1', 1) \n",
    "        \n",
    "        if sentence.find(drug2) != -1:\n",
    "            try:\n",
    "                regex_drug2 = re.compile(f'{drug2_list.iloc[i]}[^a-zA-Z0-9]')\n",
    "                for m in re.finditer(regex_drug2, sentence):\n",
    "                    last_char_drug2 = sentence[m.end() - 1]\n",
    "                    if last_char_drug2 != ' ':\n",
    "                        sentence = regex_drug2.sub(f'drug2{last_char_drug2}', sentence, count = 1)\n",
    "                        break\n",
    "                    sentence = regex_drug2.sub(f'drug2 ', sentence, count = 1)\n",
    "                    break\n",
    "            except: #this is to avoid 'nothing to repeat' errors that ocassionally occur for some reason when compiling an re\n",
    "                sentence = sentence.replace(drug2, 'drug2', 1)\n",
    "        \n",
    "        for drug in drug_list:\n",
    "            if sentence.find(drug) != -1:\n",
    "                try:\n",
    "                    regex_drug0 = re.compile(f'{drug}\\W')\n",
    "                    last_chars = []\n",
    "                    for m in re.finditer(regex_drug0, sentence):\n",
    "                        last_chars.append(sentence[m.end() - 1])\n",
    "                    for chars in last_chars:\n",
    "                        sentence = regex_drug0.sub(f'drug0{chars}', sentence, count = 1)\n",
    "                except: #this is to avoid 'nothing to repeat' errors that ocassionally occur for some reason when compiling an re\n",
    "                    sentence = sentence.replace(drug, 'drug0')\n",
    "        \n",
    "        anonymized_text.append(sentence)\n",
    "    \n",
    "    data['anonymized_text'] = anonymized_text\n",
    "            "
   ]
  },
  {
   "cell_type": "code",
   "execution_count": 14,
   "metadata": {
    "collapsed": true
   },
   "outputs": [],
   "source": [
    "def identify_same_drug(row):\n",
    "    '''Returns 1 if the drugs in a given pair are the same, 0 otherwise'''\n",
    "    if row['drug1'].strip().lower() == row['drug2'].strip().lower():\n",
    "        return 1\n",
    "    return 0"
   ]
  },
  {
   "cell_type": "code",
   "execution_count": 15,
   "metadata": {
    "collapsed": true
   },
   "outputs": [],
   "source": [
    "def identify_negative_phrases(row):\n",
    "    '''Returns 1 if there is the presence of a negation word or phrase such as 'no', \"n't\", or 'not'.'''\n",
    "    negative_regex = re.compile(\"no[^a-zA-Z0-9]|not[^a-zA-Z0-9]|.*n't[^a-zA-Z0-9]\")\n",
    "    match = re.search(negative_regex, row['text'].lower())\n",
    "    if match:\n",
    "        return 1\n",
    "    return 0"
   ]
  },
  {
   "cell_type": "code",
   "execution_count": 16,
   "metadata": {
    "collapsed": true
   },
   "outputs": [],
   "source": [
    "def identify_series(row):\n",
    "    '''Returns 1 if 'drug1' and 'drug2' appear in the same coordinate phrase, 0 otherwise'''\n",
    "    patterns = [re.compile(\"drug1[,;](|\\s)([a-zA-Z0-9]*,(|\\s))+(|or\\s|and\\s)drug2\"),\n",
    "                re.compile(\"drug1[,;](|\\s)drug2\"),\n",
    "                re.compile(\"drug2[,;](|\\s)([a-zA-Z0-9]*,(|\\s))+(|or\\s|and\\s)drug1\"),\n",
    "                re.compile(\"drug2[,;](|\\s)drug1\")]\n",
    "    \n",
    "    for re_pattern in patterns:\n",
    "        if re.search(re_pattern, row['anonymized_text']):\n",
    "            return 1\n",
    "    return 0"
   ]
  },
  {
   "cell_type": "code",
   "execution_count": 17,
   "metadata": {
    "collapsed": true
   },
   "outputs": [],
   "source": [
    "def identify_special_cases(row):\n",
    "    '''Returns 1 if drug1 is a special case of drug2 or vice versa. An example of this is when a drug is\n",
    "    describing a class of drugs. For example, the phrase 'drug1 such as drug2' should return 1.'''\n",
    "    patterns = [re.compile('drug1(|\\s)\\(drug2\\)(|\\W)'),\n",
    "                re.compile('drug2(|\\s)\\(drug1\\)(|\\W)'),\n",
    "                re.compile('drug1 such as drug2'),\n",
    "                re.compile('drug2 such as drug1')]\n",
    "    \n",
    "    for re_pattern in patterns:\n",
    "        if re.search(re_pattern, row['anonymized_text']):\n",
    "            return 1\n",
    "    return 0"
   ]
  },
  {
   "cell_type": "code",
   "execution_count": 18,
   "metadata": {
    "collapsed": true
   },
   "outputs": [],
   "source": [
    "def preprocess(data):\n",
    "    '''goes through all the preprocesing steps and returns the resulting dataframe'''\n",
    "    d = deepcopy(data)\n",
    "    anonymize_drugs(d)\n",
    "    d['same_drug'] = d.apply(identify_same_drug, axis = 1)\n",
    "    d['negative'] = d.apply(identify_negative_phrases, axis = 1)\n",
    "    d['in_series'] = d.apply(identify_series, axis = 1)\n",
    "    d['special_cases'] = d.apply(identify_special_cases, axis = 1)\n",
    "    d['removal_flag'] = d.apply(lambda x: max(x['same_drug'], x['negative'], x['in_series'], x['special_cases']), axis = 1)\n",
    "    return d"
   ]
  },
  {
   "cell_type": "code",
   "execution_count": 19,
   "metadata": {
    "collapsed": true
   },
   "outputs": [],
   "source": [
    "train_data_preprocessed = preprocess(train_data)"
   ]
  },
  {
   "cell_type": "code",
   "execution_count": 20,
   "metadata": {},
   "outputs": [
    {
     "data": {
      "text/html": [
       "<div>\n",
       "<style>\n",
       "    .dataframe thead tr:only-child th {\n",
       "        text-align: right;\n",
       "    }\n",
       "\n",
       "    .dataframe thead th {\n",
       "        text-align: left;\n",
       "    }\n",
       "\n",
       "    .dataframe tbody tr th {\n",
       "        vertical-align: top;\n",
       "    }\n",
       "</style>\n",
       "<table border=\"1\" class=\"dataframe\">\n",
       "  <thead>\n",
       "    <tr style=\"text-align: right;\">\n",
       "      <th></th>\n",
       "      <th>sentence_id</th>\n",
       "      <th>text</th>\n",
       "      <th>pair_id</th>\n",
       "      <th>drug1_id</th>\n",
       "      <th>drug1</th>\n",
       "      <th>drug1_type</th>\n",
       "      <th>drug2_id</th>\n",
       "      <th>drug2</th>\n",
       "      <th>drug2_type</th>\n",
       "      <th>ddi</th>\n",
       "      <th>ddi_type</th>\n",
       "      <th>anonymized_text</th>\n",
       "      <th>same_drug</th>\n",
       "      <th>negative</th>\n",
       "      <th>in_series</th>\n",
       "      <th>special_cases</th>\n",
       "      <th>removal_flag</th>\n",
       "    </tr>\n",
       "  </thead>\n",
       "  <tbody>\n",
       "    <tr>\n",
       "      <th>0</th>\n",
       "      <td>DDI-DrugBank.d519.s3</td>\n",
       "      <td>laboratory tests response to plenaxis should b...</td>\n",
       "      <td>DDI-DrugBank.d519.s3.p0</td>\n",
       "      <td>DDI-DrugBank.d519.s3.e0</td>\n",
       "      <td>plenaxis</td>\n",
       "      <td>brand</td>\n",
       "      <td>DDI-DrugBank.d519.s3.e1</td>\n",
       "      <td>testosterone</td>\n",
       "      <td>drug</td>\n",
       "      <td>False</td>\n",
       "      <td>NaN</td>\n",
       "      <td>laboratory tests response to drug1 should be m...</td>\n",
       "      <td>0</td>\n",
       "      <td>0</td>\n",
       "      <td>0</td>\n",
       "      <td>0</td>\n",
       "      <td>0</td>\n",
       "    </tr>\n",
       "    <tr>\n",
       "      <th>1</th>\n",
       "      <td>DDI-DrugBank.d297.s1</td>\n",
       "      <td>population pharmacokinetic analyses revealed t...</td>\n",
       "      <td>DDI-DrugBank.d297.s1.p0</td>\n",
       "      <td>DDI-DrugBank.d297.s1.e0</td>\n",
       "      <td>mtx</td>\n",
       "      <td>drug</td>\n",
       "      <td>DDI-DrugBank.d297.s1.e1</td>\n",
       "      <td>nsaids</td>\n",
       "      <td>group</td>\n",
       "      <td>False</td>\n",
       "      <td>NaN</td>\n",
       "      <td>population pharmacokinetic analyses revealed t...</td>\n",
       "      <td>0</td>\n",
       "      <td>1</td>\n",
       "      <td>1</td>\n",
       "      <td>0</td>\n",
       "      <td>1</td>\n",
       "    </tr>\n",
       "    <tr>\n",
       "      <th>2</th>\n",
       "      <td>DDI-DrugBank.d297.s1</td>\n",
       "      <td>population pharmacokinetic analyses revealed t...</td>\n",
       "      <td>DDI-DrugBank.d297.s1.p1</td>\n",
       "      <td>DDI-DrugBank.d297.s1.e0</td>\n",
       "      <td>mtx</td>\n",
       "      <td>drug</td>\n",
       "      <td>DDI-DrugBank.d297.s1.e2</td>\n",
       "      <td>corticosteroids</td>\n",
       "      <td>group</td>\n",
       "      <td>False</td>\n",
       "      <td>NaN</td>\n",
       "      <td>population pharmacokinetic analyses revealed t...</td>\n",
       "      <td>0</td>\n",
       "      <td>1</td>\n",
       "      <td>1</td>\n",
       "      <td>0</td>\n",
       "      <td>1</td>\n",
       "    </tr>\n",
       "    <tr>\n",
       "      <th>3</th>\n",
       "      <td>DDI-DrugBank.d297.s1</td>\n",
       "      <td>population pharmacokinetic analyses revealed t...</td>\n",
       "      <td>DDI-DrugBank.d297.s1.p2</td>\n",
       "      <td>DDI-DrugBank.d297.s1.e0</td>\n",
       "      <td>mtx</td>\n",
       "      <td>drug</td>\n",
       "      <td>DDI-DrugBank.d297.s1.e3</td>\n",
       "      <td>tnf blocking agents</td>\n",
       "      <td>group</td>\n",
       "      <td>False</td>\n",
       "      <td>NaN</td>\n",
       "      <td>population pharmacokinetic analyses revealed t...</td>\n",
       "      <td>0</td>\n",
       "      <td>1</td>\n",
       "      <td>1</td>\n",
       "      <td>0</td>\n",
       "      <td>1</td>\n",
       "    </tr>\n",
       "    <tr>\n",
       "      <th>4</th>\n",
       "      <td>DDI-DrugBank.d297.s1</td>\n",
       "      <td>population pharmacokinetic analyses revealed t...</td>\n",
       "      <td>DDI-DrugBank.d297.s1.p3</td>\n",
       "      <td>DDI-DrugBank.d297.s1.e0</td>\n",
       "      <td>mtx</td>\n",
       "      <td>drug</td>\n",
       "      <td>DDI-DrugBank.d297.s1.e4</td>\n",
       "      <td>abatacept</td>\n",
       "      <td>drug</td>\n",
       "      <td>False</td>\n",
       "      <td>NaN</td>\n",
       "      <td>population pharmacokinetic analyses revealed t...</td>\n",
       "      <td>0</td>\n",
       "      <td>1</td>\n",
       "      <td>0</td>\n",
       "      <td>0</td>\n",
       "      <td>1</td>\n",
       "    </tr>\n",
       "  </tbody>\n",
       "</table>\n",
       "</div>"
      ],
      "text/plain": [
       "            sentence_id                                               text  \\\n",
       "0  DDI-DrugBank.d519.s3  laboratory tests response to plenaxis should b...   \n",
       "1  DDI-DrugBank.d297.s1  population pharmacokinetic analyses revealed t...   \n",
       "2  DDI-DrugBank.d297.s1  population pharmacokinetic analyses revealed t...   \n",
       "3  DDI-DrugBank.d297.s1  population pharmacokinetic analyses revealed t...   \n",
       "4  DDI-DrugBank.d297.s1  population pharmacokinetic analyses revealed t...   \n",
       "\n",
       "                   pair_id                 drug1_id     drug1 drug1_type  \\\n",
       "0  DDI-DrugBank.d519.s3.p0  DDI-DrugBank.d519.s3.e0  plenaxis      brand   \n",
       "1  DDI-DrugBank.d297.s1.p0  DDI-DrugBank.d297.s1.e0       mtx       drug   \n",
       "2  DDI-DrugBank.d297.s1.p1  DDI-DrugBank.d297.s1.e0       mtx       drug   \n",
       "3  DDI-DrugBank.d297.s1.p2  DDI-DrugBank.d297.s1.e0       mtx       drug   \n",
       "4  DDI-DrugBank.d297.s1.p3  DDI-DrugBank.d297.s1.e0       mtx       drug   \n",
       "\n",
       "                  drug2_id                drug2 drug2_type    ddi ddi_type  \\\n",
       "0  DDI-DrugBank.d519.s3.e1         testosterone       drug  False      NaN   \n",
       "1  DDI-DrugBank.d297.s1.e1               nsaids      group  False      NaN   \n",
       "2  DDI-DrugBank.d297.s1.e2      corticosteroids      group  False      NaN   \n",
       "3  DDI-DrugBank.d297.s1.e3  tnf blocking agents      group  False      NaN   \n",
       "4  DDI-DrugBank.d297.s1.e4            abatacept       drug  False      NaN   \n",
       "\n",
       "                                     anonymized_text  same_drug  negative  \\\n",
       "0  laboratory tests response to drug1 should be m...          0         0   \n",
       "1  population pharmacokinetic analyses revealed t...          0         1   \n",
       "2  population pharmacokinetic analyses revealed t...          0         1   \n",
       "3  population pharmacokinetic analyses revealed t...          0         1   \n",
       "4  population pharmacokinetic analyses revealed t...          0         1   \n",
       "\n",
       "   in_series  special_cases  removal_flag  \n",
       "0          0              0             0  \n",
       "1          1              0             1  \n",
       "2          1              0             1  \n",
       "3          1              0             1  \n",
       "4          0              0             1  "
      ]
     },
     "execution_count": 20,
     "metadata": {},
     "output_type": "execute_result"
    }
   ],
   "source": [
    "train_data_preprocessed.head()"
   ]
  },
  {
   "cell_type": "code",
   "execution_count": 21,
   "metadata": {
    "collapsed": true
   },
   "outputs": [],
   "source": [
    "test_data_preprocessed = preprocess(test_data)"
   ]
  },
  {
   "cell_type": "markdown",
   "metadata": {},
   "source": [
    "Serialize preprocessed data into pickle for further use."
   ]
  },
  {
   "cell_type": "code",
   "execution_count": 22,
   "metadata": {
    "collapsed": true
   },
   "outputs": [],
   "source": [
    "def write_to_pickle(data, file_name):\n",
    "    pickle_out = open(file_name, 'wb')\n",
    "    pickle.dump(data, pickle_out)\n",
    "    pickle_out.close()"
   ]
  },
  {
   "cell_type": "code",
   "execution_count": 23,
   "metadata": {
    "collapsed": true
   },
   "outputs": [],
   "source": [
    "write_to_pickle(train_data_preprocessed, 'train_data_preprocessed.pickle')"
   ]
  },
  {
   "cell_type": "code",
   "execution_count": 24,
   "metadata": {
    "collapsed": true
   },
   "outputs": [],
   "source": [
    "write_to_pickle(test_data_preprocessed, 'test_data_preprocessed.pickle')"
   ]
  }
 ],
 "metadata": {
  "kernelspec": {
   "display_name": "Python 3",
   "language": "python",
   "name": "python3"
  },
  "language_info": {
   "codemirror_mode": {
    "name": "ipython",
    "version": 3
   },
   "file_extension": ".py",
   "mimetype": "text/x-python",
   "name": "python",
   "nbconvert_exporter": "python",
   "pygments_lexer": "ipython3",
   "version": "3.6.1"
  }
 },
 "nbformat": 4,
 "nbformat_minor": 2
}
