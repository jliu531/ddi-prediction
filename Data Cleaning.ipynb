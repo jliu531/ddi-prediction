{
 "cells": [
  {
   "cell_type": "code",
   "execution_count": 140,
   "metadata": {
    "collapsed": true
   },
   "outputs": [],
   "source": [
    "from copy import deepcopy\n",
    "import re\n",
    "import numpy as np\n",
    "import pandas as pd\n",
    "import matplotlib as plt"
   ]
  },
  {
   "cell_type": "code",
   "execution_count": 5,
   "metadata": {
    "collapsed": true
   },
   "outputs": [],
   "source": [
    "colnames = ['sentence_id', 'text', 'pair_id', 'drug1_id', 'drug1', 'drug1_type', 'drug2_id', 'drug2', 'drug2_type', 'ddi', 'ddi_type']\n",
    "train_data = pd.read_csv('./ddi_train.csv', header = None, names = colnames)\n",
    "test_data = pd.read_csv('./ddi_test.csv', header = None, names = colnames)"
   ]
  },
  {
   "cell_type": "code",
   "execution_count": 18,
   "metadata": {},
   "outputs": [
    {
     "data": {
      "text/html": [
       "<div>\n",
       "<style>\n",
       "    .dataframe thead tr:only-child th {\n",
       "        text-align: right;\n",
       "    }\n",
       "\n",
       "    .dataframe thead th {\n",
       "        text-align: left;\n",
       "    }\n",
       "\n",
       "    .dataframe tbody tr th {\n",
       "        vertical-align: top;\n",
       "    }\n",
       "</style>\n",
       "<table border=\"1\" class=\"dataframe\">\n",
       "  <thead>\n",
       "    <tr style=\"text-align: right;\">\n",
       "      <th></th>\n",
       "      <th>sentence_id</th>\n",
       "      <th>text</th>\n",
       "      <th>pair_id</th>\n",
       "      <th>drug1_id</th>\n",
       "      <th>drug1</th>\n",
       "      <th>drug1_type</th>\n",
       "      <th>drug2_id</th>\n",
       "      <th>drug2</th>\n",
       "      <th>drug2_type</th>\n",
       "      <th>ddi</th>\n",
       "      <th>ddi_type</th>\n",
       "    </tr>\n",
       "  </thead>\n",
       "  <tbody>\n",
       "    <tr>\n",
       "      <th>0</th>\n",
       "      <td>DDI-DrugBank.d519.s3</td>\n",
       "      <td>laboratory tests response to plenaxis should b...</td>\n",
       "      <td>DDI-DrugBank.d519.s3.p0</td>\n",
       "      <td>DDI-DrugBank.d519.s3.e0</td>\n",
       "      <td>plenaxis</td>\n",
       "      <td>brand</td>\n",
       "      <td>DDI-DrugBank.d519.s3.e1</td>\n",
       "      <td>testosterone</td>\n",
       "      <td>drug</td>\n",
       "      <td>False</td>\n",
       "      <td>NaN</td>\n",
       "    </tr>\n",
       "    <tr>\n",
       "      <th>1</th>\n",
       "      <td>DDI-DrugBank.d297.s1</td>\n",
       "      <td>population pharmacokinetic analyses revealed t...</td>\n",
       "      <td>DDI-DrugBank.d297.s1.p0</td>\n",
       "      <td>DDI-DrugBank.d297.s1.e0</td>\n",
       "      <td>mtx</td>\n",
       "      <td>drug</td>\n",
       "      <td>DDI-DrugBank.d297.s1.e1</td>\n",
       "      <td>nsaids</td>\n",
       "      <td>group</td>\n",
       "      <td>False</td>\n",
       "      <td>NaN</td>\n",
       "    </tr>\n",
       "    <tr>\n",
       "      <th>2</th>\n",
       "      <td>DDI-DrugBank.d297.s1</td>\n",
       "      <td>population pharmacokinetic analyses revealed t...</td>\n",
       "      <td>DDI-DrugBank.d297.s1.p1</td>\n",
       "      <td>DDI-DrugBank.d297.s1.e0</td>\n",
       "      <td>mtx</td>\n",
       "      <td>drug</td>\n",
       "      <td>DDI-DrugBank.d297.s1.e2</td>\n",
       "      <td>corticosteroids</td>\n",
       "      <td>group</td>\n",
       "      <td>False</td>\n",
       "      <td>NaN</td>\n",
       "    </tr>\n",
       "    <tr>\n",
       "      <th>3</th>\n",
       "      <td>DDI-DrugBank.d297.s1</td>\n",
       "      <td>population pharmacokinetic analyses revealed t...</td>\n",
       "      <td>DDI-DrugBank.d297.s1.p2</td>\n",
       "      <td>DDI-DrugBank.d297.s1.e0</td>\n",
       "      <td>mtx</td>\n",
       "      <td>drug</td>\n",
       "      <td>DDI-DrugBank.d297.s1.e3</td>\n",
       "      <td>tnf blocking agents</td>\n",
       "      <td>group</td>\n",
       "      <td>False</td>\n",
       "      <td>NaN</td>\n",
       "    </tr>\n",
       "    <tr>\n",
       "      <th>4</th>\n",
       "      <td>DDI-DrugBank.d297.s1</td>\n",
       "      <td>population pharmacokinetic analyses revealed t...</td>\n",
       "      <td>DDI-DrugBank.d297.s1.p3</td>\n",
       "      <td>DDI-DrugBank.d297.s1.e0</td>\n",
       "      <td>mtx</td>\n",
       "      <td>drug</td>\n",
       "      <td>DDI-DrugBank.d297.s1.e4</td>\n",
       "      <td>abatacept</td>\n",
       "      <td>drug</td>\n",
       "      <td>False</td>\n",
       "      <td>NaN</td>\n",
       "    </tr>\n",
       "  </tbody>\n",
       "</table>\n",
       "</div>"
      ],
      "text/plain": [
       "            sentence_id                                               text  \\\n",
       "0  DDI-DrugBank.d519.s3  laboratory tests response to plenaxis should b...   \n",
       "1  DDI-DrugBank.d297.s1  population pharmacokinetic analyses revealed t...   \n",
       "2  DDI-DrugBank.d297.s1  population pharmacokinetic analyses revealed t...   \n",
       "3  DDI-DrugBank.d297.s1  population pharmacokinetic analyses revealed t...   \n",
       "4  DDI-DrugBank.d297.s1  population pharmacokinetic analyses revealed t...   \n",
       "\n",
       "                   pair_id                 drug1_id     drug1 drug1_type  \\\n",
       "0  DDI-DrugBank.d519.s3.p0  DDI-DrugBank.d519.s3.e0  plenaxis      brand   \n",
       "1  DDI-DrugBank.d297.s1.p0  DDI-DrugBank.d297.s1.e0       mtx       drug   \n",
       "2  DDI-DrugBank.d297.s1.p1  DDI-DrugBank.d297.s1.e0       mtx       drug   \n",
       "3  DDI-DrugBank.d297.s1.p2  DDI-DrugBank.d297.s1.e0       mtx       drug   \n",
       "4  DDI-DrugBank.d297.s1.p3  DDI-DrugBank.d297.s1.e0       mtx       drug   \n",
       "\n",
       "                  drug2_id                drug2 drug2_type    ddi ddi_type  \n",
       "0  DDI-DrugBank.d519.s3.e1         testosterone       drug  False      NaN  \n",
       "1  DDI-DrugBank.d297.s1.e1               nsaids      group  False      NaN  \n",
       "2  DDI-DrugBank.d297.s1.e2      corticosteroids      group  False      NaN  \n",
       "3  DDI-DrugBank.d297.s1.e3  tnf blocking agents      group  False      NaN  \n",
       "4  DDI-DrugBank.d297.s1.e4            abatacept       drug  False      NaN  "
      ]
     },
     "execution_count": 18,
     "metadata": {},
     "output_type": "execute_result"
    }
   ],
   "source": [
    "train_data.head()"
   ]
  },
  {
   "cell_type": "code",
   "execution_count": 86,
   "metadata": {},
   "outputs": [
    {
     "data": {
      "text/plain": [
       "2242"
      ]
     },
     "execution_count": 86,
     "metadata": {},
     "output_type": "execute_result"
    }
   ],
   "source": [
    "len(drug_list)"
   ]
  },
  {
   "cell_type": "code",
   "execution_count": 200,
   "metadata": {},
   "outputs": [],
   "source": [
    "#mini set to test functions with\n",
    "mini_set = deepcopy(train_data.loc[1535:1545])"
   ]
  },
  {
   "cell_type": "code",
   "execution_count": 214,
   "metadata": {},
   "outputs": [],
   "source": [
    "drug1_list = np.unique(train_data['drug1'])\n",
    "drug2_list = np.unique(train_data['drug2'])\n",
    "drug_list = np.unique(np.concatenate([drug1_list, drug2_list]))\n",
    "drug_list = np.delete(drug_list, np.where(drug_list == 'drug')[0][0])\n",
    "\n",
    "\n",
    "def anonymize_drugs(data):\n",
    "    '''replaces the drug mentions in the sentences with drug1, drug2, or drug0. The drug pair of interest is\n",
    "    replaced with drug1 and drug2 while other drug mentions in the sentence that are not part of the pair\n",
    "    are replaced with drug0\n",
    "    \n",
    "    Example:\n",
    "    \n",
    "    laboratory tests response to plenaxis should be monitored by measuring serum total testosterone \n",
    "    concentrations just prior to administration on day 29 and every 8 weeks thereafter.\n",
    "    \n",
    "    If the pair of interest is plenaxis and testosterone, this sentence becomes:\n",
    "    \n",
    "    laboratory tests response to drug1 should be monitored by measuring serum total drug2 \n",
    "    concentrations just prior to administration on day 29 and every 8 weeks thereafter.\n",
    "    '''\n",
    "    sentences = data['text']\n",
    "    drug1_list = data['drug1']\n",
    "    drug2_list = data['drug2']\n",
    "    drug_list = np.unique(np.concatenate([drug1_list, drug2_list]))\n",
    "    if 'drug' in drug_list:\n",
    "        drug_list = np.delete(drug_list, np.where(drug_list == 'drug')[0][0])\n",
    "    for i in range(len(sentences)):\n",
    "        sentence = sentences.iloc[i]\n",
    "        print('original sentence')\n",
    "        print(sentence)\n",
    "        print('----')\n",
    "        regex_drug1 = re.compile(f'\\s{drug1_list.iloc[i]}[\\s,.;:]')\n",
    "        regex_drug2 = re.compile(f'\\s{drug2_list.iloc[i]}[\\s,.;:]')\n",
    "        punctuation_list = [' ', ',', '.', ':', ';']\n",
    "        \n",
    "        \n",
    "        for punctuation in punctuation_list:\n",
    "            pattern = re.compile(f'\\s{drug1_list.iloc[i]}{punctuation}')\n",
    "            if pattern.search(sentence):\n",
    "                sentence = regex_drug1.sub(f' drug1{punctuation}', sentence, count = 1)\n",
    "                break\n",
    "\n",
    "        for punctuation in punctuation_list:\n",
    "            pattern = re.compile(f'\\s{drug2_list.iloc[i]}{punctuation}')\n",
    "            if pattern.search(sentence):\n",
    "                sentence = regex_drug2.sub(f' drug2{punctuation}', sentence, count = 1)\n",
    "                break\n",
    "                \n",
    "        for drug in drug_list:\n",
    "            regex_drug0 = re.compile(f'\\s{drug}[\\s,.;:]')\n",
    "            for punctuation in punctuation_list:\n",
    "                pattern = re.compile(f'\\s{drug}{punctuation}')\n",
    "                if pattern.search(sentence):\n",
    "                    sentence = regex_drug0.sub(f' drug0{punctuation}', sentence, count = 1)\n",
    "                    break\n",
    "            \n",
    "            \n",
    "            \n",
    "            \n",
    "            \n",
    "            \n",
    "        print(sentence)\n",
    "        print('---')\n",
    "    return sentence\n",
    "            \n",
    "    \n",
    "    "
   ]
  },
  {
   "cell_type": "code",
   "execution_count": 215,
   "metadata": {},
   "outputs": [
    {
     "name": "stdout",
     "output_type": "stream",
     "text": [
      "original sentence\n",
      "imidazoles (e. g., ketoconazole, miconazole, clotrimazole, fluconazole, etc.): in vitro and animal studies with the combination of amphotericin b and imidazoles suggest that imidazoles may induce fungal resistance to amphotericin b.\n",
      "----\n",
      "imidazoles (e. g., drug0, drug2, drug0, drug0, etc.): in vitro and animal studies with the combination of drug0 and drug1 suggest that drug0 may induce fungal resistance to amphotericin b.\n",
      "---\n",
      "original sentence\n",
      "imidazoles (e. g., ketoconazole, miconazole, clotrimazole, fluconazole, etc.): in vitro and animal studies with the combination of amphotericin b and imidazoles suggest that imidazoles may induce fungal resistance to amphotericin b.\n",
      "----\n",
      "imidazoles (e. g., drug0, drug0, drug2, drug0, etc.): in vitro and animal studies with the combination of drug0 and drug1 suggest that drug0 may induce fungal resistance to amphotericin b.\n",
      "---\n",
      "original sentence\n",
      "imidazoles (e. g., ketoconazole, miconazole, clotrimazole, fluconazole, etc.): in vitro and animal studies with the combination of amphotericin b and imidazoles suggest that imidazoles may induce fungal resistance to amphotericin b.\n",
      "----\n",
      "imidazoles (e. g., drug0, drug0, drug0, drug2, etc.): in vitro and animal studies with the combination of drug0 and drug1 suggest that drug0 may induce fungal resistance to amphotericin b.\n",
      "---\n",
      "original sentence\n",
      "imidazoles (e. g., ketoconazole, miconazole, clotrimazole, fluconazole, etc.): in vitro and animal studies with the combination of amphotericin b and imidazoles suggest that imidazoles may induce fungal resistance to amphotericin b.\n",
      "----\n",
      "imidazoles (e. g., drug0, drug0, drug0, drug0, etc.): in vitro and animal studies with the combination of drug2 and drug1 suggest that drug0 may induce fungal resistance to drug0.\n",
      "---\n",
      "original sentence\n",
      "imidazoles (e. g., ketoconazole, miconazole, clotrimazole, fluconazole, etc.): in vitro and animal studies with the combination of amphotericin b and imidazoles suggest that imidazoles may induce fungal resistance to amphotericin b.\n",
      "----\n",
      "imidazoles (e. g., drug0, drug0, drug0, drug0, etc.): in vitro and animal studies with the combination of drug0 and drug1 suggest that drug2 may induce fungal resistance to amphotericin b.\n",
      "---\n",
      "original sentence\n",
      "imidazoles (e. g., ketoconazole, miconazole, clotrimazole, fluconazole, etc.): in vitro and animal studies with the combination of amphotericin b and imidazoles suggest that imidazoles may induce fungal resistance to amphotericin b.\n",
      "----\n",
      "imidazoles (e. g., drug0, drug0, drug0, drug0, etc.): in vitro and animal studies with the combination of drug0 and drug1 suggest that drug2 may induce fungal resistance to amphotericin b.\n",
      "---\n",
      "original sentence\n",
      "imidazoles (e. g., ketoconazole, miconazole, clotrimazole, fluconazole, etc.): in vitro and animal studies with the combination of amphotericin b and imidazoles suggest that imidazoles may induce fungal resistance to amphotericin b.\n",
      "----\n",
      "imidazoles (e. g., drug0, drug0, drug0, drug0, etc.): in vitro and animal studies with the combination of drug2 and drug1 suggest that drug0 may induce fungal resistance to drug0.\n",
      "---\n",
      "original sentence\n",
      "imidazoles (e. g., ketoconazole, miconazole, clotrimazole, fluconazole, etc.): in vitro and animal studies with the combination of amphotericin b and imidazoles suggest that imidazoles may induce fungal resistance to amphotericin b.\n",
      "----\n",
      "imidazoles (e. g., drug1, drug2, drug0, drug0, etc.): in vitro and animal studies with the combination of drug0 and drug0 suggest that imidazoles may induce fungal resistance to amphotericin b.\n",
      "---\n",
      "original sentence\n",
      "imidazoles (e. g., ketoconazole, miconazole, clotrimazole, fluconazole, etc.): in vitro and animal studies with the combination of amphotericin b and imidazoles suggest that imidazoles may induce fungal resistance to amphotericin b.\n",
      "----\n",
      "imidazoles (e. g., drug1, drug0, drug2, drug0, etc.): in vitro and animal studies with the combination of drug0 and drug0 suggest that imidazoles may induce fungal resistance to amphotericin b.\n",
      "---\n",
      "original sentence\n",
      "imidazoles (e. g., ketoconazole, miconazole, clotrimazole, fluconazole, etc.): in vitro and animal studies with the combination of amphotericin b and imidazoles suggest that imidazoles may induce fungal resistance to amphotericin b.\n",
      "----\n",
      "imidazoles (e. g., drug1, drug0, drug0, drug2, etc.): in vitro and animal studies with the combination of drug0 and drug0 suggest that imidazoles may induce fungal resistance to amphotericin b.\n",
      "---\n",
      "original sentence\n",
      "imidazoles (e. g., ketoconazole, miconazole, clotrimazole, fluconazole, etc.): in vitro and animal studies with the combination of amphotericin b and imidazoles suggest that imidazoles may induce fungal resistance to amphotericin b.\n",
      "----\n",
      "imidazoles (e. g., drug1, drug0, drug0, drug0, etc.): in vitro and animal studies with the combination of drug2 and drug0 suggest that imidazoles may induce fungal resistance to drug0.\n",
      "---\n"
     ]
    },
    {
     "data": {
      "text/plain": [
       "'imidazoles (e. g., drug1, drug0, drug0, drug0, etc.): in vitro and animal studies with the combination of drug2 and drug0 suggest that imidazoles may induce fungal resistance to drug0.'"
      ]
     },
     "execution_count": 215,
     "metadata": {},
     "output_type": "execute_result"
    }
   ],
   "source": [
    "anonymize_drugs(mini_set)"
   ]
  },
  {
   "cell_type": "code",
   "execution_count": 158,
   "metadata": {},
   "outputs": [
    {
     "name": "stdout",
     "output_type": "stream",
     "text": [
      "laboratory tests response to plenaxis should be monitored by measuring serum total testosterone concentrations just prior to administration on day 29 and every 8 weeks thereafter.\n",
      "population pharmacokinetic analyses revealed that mtx, nsaids, corticosteroids, and tnf blocking agents did not influence abatacept clearance.\n",
      "population pharmacokinetic analyses revealed that mtx, nsaids, corticosteroids, and tnf blocking agents did not influence abatacept clearance.\n",
      "population pharmacokinetic analyses revealed that mtx, nsaids, corticosteroids, and tnf blocking agents did not influence abatacept clearance.\n",
      "population pharmacokinetic analyses revealed that mtx, nsaids, corticosteroids, and tnf blocking agents did not influence abatacept clearance.\n",
      "population pharmacokinetic analyses revealed that mtx, nsaids, corticosteroids, and tnf blocking agents did not influence abatacept clearance.\n"
     ]
    }
   ],
   "source": [
    "for text in mini_set['text']:\n",
    "    print(text)"
   ]
  },
  {
   "cell_type": "code",
   "execution_count": 106,
   "metadata": {},
   "outputs": [
    {
     "data": {
      "text/plain": [
       "sentence_id                                  DDI-MedLine.d113.s5\n",
       "text           the results raise the possibility that the eth...\n",
       "pair_id                                   DDI-MedLine.d113.s5.p0\n",
       "drug1_id                                  DDI-MedLine.d113.s5.e0\n",
       "drug1                                                    alcohol\n",
       "drug1_type                                                  drug\n",
       "drug2_id                                  DDI-MedLine.d113.s5.e1\n",
       "drug2                               3-hydroxy-1,4-benzodiazepine\n",
       "drug2_type                                                 group\n",
       "ddi                                                         True\n",
       "ddi_type                                               mechanism\n",
       "Name: 27874, dtype: object"
      ]
     },
     "execution_count": 106,
     "metadata": {},
     "output_type": "execute_result"
    }
   ],
   "source": [
    "train_data.iloc[len(train_data) -1]\n"
   ]
  },
  {
   "cell_type": "code",
   "execution_count": 131,
   "metadata": {},
   "outputs": [
    {
     "data": {
      "text/plain": [
       "731"
      ]
     },
     "execution_count": 131,
     "metadata": {},
     "output_type": "execute_result"
    }
   ],
   "source": []
  },
  {
   "cell_type": "code",
   "execution_count": 113,
   "metadata": {
    "collapsed": true
   },
   "outputs": [],
   "source": [
    "def anonymize_sentence(sentence, drug1, drug2, drug_list):\n",
    "    s = sentence.replace(drug1, 'drug1')\n",
    "    print(s)\n",
    "    s = s.replace(drug2, 'drug2')\n",
    "    for drug in drug_list:\n",
    "        s = s.replace(drug, 'drug0')\n",
    "    return s"
   ]
  },
  {
   "cell_type": "code",
   "execution_count": 125,
   "metadata": {},
   "outputs": [
    {
     "data": {
      "text/plain": [
       "sentence_id                                 DDI-DrugBank.d99.s23\n",
       "text           increases in plasma levels of tricyclic antide...\n",
       "pair_id                                  DDI-DrugBank.d99.s23.p2\n",
       "drug1_id                                 DDI-DrugBank.d99.s23.e0\n",
       "drug1                                  tricyclic antidepressants\n",
       "drug1_type                                                  drug\n",
       "drug2_id                                 DDI-DrugBank.d99.s23.e3\n",
       "drug2                                                       drug\n",
       "drug2_type                                                  drug\n",
       "ddi                                                        False\n",
       "ddi_type                                                     NaN\n",
       "Name: 1509, dtype: object"
      ]
     },
     "execution_count": 125,
     "metadata": {},
     "output_type": "execute_result"
    }
   ],
   "source": [
    "train_data[train_data['drug2'] == 'drug'].iloc[0]"
   ]
  },
  {
   "cell_type": "code",
   "execution_count": 114,
   "metadata": {},
   "outputs": [
    {
     "name": "stdout",
     "output_type": "stream",
     "text": [
      "the results raise the possibility that the ethanolysis reaction may occur in the stomach of people who consume drug1 and 3-hydroxy-1,4-benzodiazepine on a regular basis. \n",
      "the results raise the possibility that the drug0ysis reaction may occur in the stomach of people who drug00nsume drug01 and drug02 on a regular basis. \n"
     ]
    }
   ],
   "source": [
    "sentence = 'the results raise the possibility that the ethanolysis reaction may occur in the stomach of people who consume alcohol and 3-hydroxy-1,4-benzodiazepine on a regular basis. '\n",
    "drug1 = 'alcohol'\n",
    "drug2 = '3-hydroxy-1,4-benzodiazepine'\n",
    "\n",
    "y = anonymize_sentence(sentence, drug1, drug2, drug_list = drug_list)\n",
    "print(y)"
   ]
  },
  {
   "cell_type": "code",
   "execution_count": 92,
   "metadata": {},
   "outputs": [
    {
     "data": {
      "text/plain": [
       "'wee'"
      ]
     },
     "execution_count": 92,
     "metadata": {},
     "output_type": "execute_result"
    }
   ],
   "source": [
    "'hello mary'.replace('hello mary', 'wee')"
   ]
  },
  {
   "cell_type": "code",
   "execution_count": 72,
   "metadata": {},
   "outputs": [
    {
     "data": {
      "text/plain": [
       "'laboratory tests response to plenaxis should be monitored by measuring serum total testosterone concentrations just prior to administration on day 29 and every 8 weeks thereafter.'"
      ]
     },
     "execution_count": 72,
     "metadata": {},
     "output_type": "execute_result"
    }
   ],
   "source": [
    "anonymized.loc[0]['text']"
   ]
  },
  {
   "cell_type": "code",
   "execution_count": 58,
   "metadata": {},
   "outputs": [
    {
     "data": {
      "text/html": [
       "<div>\n",
       "<style>\n",
       "    .dataframe thead tr:only-child th {\n",
       "        text-align: right;\n",
       "    }\n",
       "\n",
       "    .dataframe thead th {\n",
       "        text-align: left;\n",
       "    }\n",
       "\n",
       "    .dataframe tbody tr th {\n",
       "        vertical-align: top;\n",
       "    }\n",
       "</style>\n",
       "<table border=\"1\" class=\"dataframe\">\n",
       "  <thead>\n",
       "    <tr style=\"text-align: right;\">\n",
       "      <th></th>\n",
       "      <th>sentence_id</th>\n",
       "      <th>text</th>\n",
       "      <th>pair_id</th>\n",
       "      <th>drug1_id</th>\n",
       "      <th>drug1</th>\n",
       "      <th>drug1_type</th>\n",
       "      <th>drug2_id</th>\n",
       "      <th>drug2</th>\n",
       "      <th>drug2_type</th>\n",
       "      <th>ddi</th>\n",
       "      <th>ddi_type</th>\n",
       "    </tr>\n",
       "  </thead>\n",
       "  <tbody>\n",
       "    <tr>\n",
       "      <th>0</th>\n",
       "      <td>DDI-DrugBank.d519.s3</td>\n",
       "      <td>laboratory tests response to plenaxis should b...</td>\n",
       "      <td>DDI-DrugBank.d519.s3.p0</td>\n",
       "      <td>DDI-DrugBank.d519.s3.e0</td>\n",
       "      <td>plenaxis</td>\n",
       "      <td>brand</td>\n",
       "      <td>DDI-DrugBank.d519.s3.e1</td>\n",
       "      <td>testosterone</td>\n",
       "      <td>drug</td>\n",
       "      <td>False</td>\n",
       "      <td>NaN</td>\n",
       "    </tr>\n",
       "    <tr>\n",
       "      <th>1</th>\n",
       "      <td>DDI-DrugBank.d297.s1</td>\n",
       "      <td>population pharmacokinetic analyses revealed t...</td>\n",
       "      <td>DDI-DrugBank.d297.s1.p0</td>\n",
       "      <td>DDI-DrugBank.d297.s1.e0</td>\n",
       "      <td>mtx</td>\n",
       "      <td>drug</td>\n",
       "      <td>DDI-DrugBank.d297.s1.e1</td>\n",
       "      <td>nsaids</td>\n",
       "      <td>group</td>\n",
       "      <td>False</td>\n",
       "      <td>NaN</td>\n",
       "    </tr>\n",
       "    <tr>\n",
       "      <th>2</th>\n",
       "      <td>DDI-DrugBank.d297.s1</td>\n",
       "      <td>population pharmacokinetic analyses revealed t...</td>\n",
       "      <td>DDI-DrugBank.d297.s1.p1</td>\n",
       "      <td>DDI-DrugBank.d297.s1.e0</td>\n",
       "      <td>mtx</td>\n",
       "      <td>drug</td>\n",
       "      <td>DDI-DrugBank.d297.s1.e2</td>\n",
       "      <td>corticosteroids</td>\n",
       "      <td>group</td>\n",
       "      <td>False</td>\n",
       "      <td>NaN</td>\n",
       "    </tr>\n",
       "    <tr>\n",
       "      <th>3</th>\n",
       "      <td>DDI-DrugBank.d297.s1</td>\n",
       "      <td>population pharmacokinetic analyses revealed t...</td>\n",
       "      <td>DDI-DrugBank.d297.s1.p2</td>\n",
       "      <td>DDI-DrugBank.d297.s1.e0</td>\n",
       "      <td>mtx</td>\n",
       "      <td>drug</td>\n",
       "      <td>DDI-DrugBank.d297.s1.e3</td>\n",
       "      <td>tnf blocking agents</td>\n",
       "      <td>group</td>\n",
       "      <td>False</td>\n",
       "      <td>NaN</td>\n",
       "    </tr>\n",
       "    <tr>\n",
       "      <th>4</th>\n",
       "      <td>DDI-DrugBank.d297.s1</td>\n",
       "      <td>population pharmacokinetic analyses revealed t...</td>\n",
       "      <td>DDI-DrugBank.d297.s1.p3</td>\n",
       "      <td>DDI-DrugBank.d297.s1.e0</td>\n",
       "      <td>mtx</td>\n",
       "      <td>drug</td>\n",
       "      <td>DDI-DrugBank.d297.s1.e4</td>\n",
       "      <td>abatacept</td>\n",
       "      <td>drug</td>\n",
       "      <td>False</td>\n",
       "      <td>NaN</td>\n",
       "    </tr>\n",
       "  </tbody>\n",
       "</table>\n",
       "</div>"
      ],
      "text/plain": [
       "            sentence_id                                               text  \\\n",
       "0  DDI-DrugBank.d519.s3  laboratory tests response to plenaxis should b...   \n",
       "1  DDI-DrugBank.d297.s1  population pharmacokinetic analyses revealed t...   \n",
       "2  DDI-DrugBank.d297.s1  population pharmacokinetic analyses revealed t...   \n",
       "3  DDI-DrugBank.d297.s1  population pharmacokinetic analyses revealed t...   \n",
       "4  DDI-DrugBank.d297.s1  population pharmacokinetic analyses revealed t...   \n",
       "\n",
       "                   pair_id                 drug1_id     drug1 drug1_type  \\\n",
       "0  DDI-DrugBank.d519.s3.p0  DDI-DrugBank.d519.s3.e0  plenaxis      brand   \n",
       "1  DDI-DrugBank.d297.s1.p0  DDI-DrugBank.d297.s1.e0       mtx       drug   \n",
       "2  DDI-DrugBank.d297.s1.p1  DDI-DrugBank.d297.s1.e0       mtx       drug   \n",
       "3  DDI-DrugBank.d297.s1.p2  DDI-DrugBank.d297.s1.e0       mtx       drug   \n",
       "4  DDI-DrugBank.d297.s1.p3  DDI-DrugBank.d297.s1.e0       mtx       drug   \n",
       "\n",
       "                  drug2_id                drug2 drug2_type    ddi ddi_type  \n",
       "0  DDI-DrugBank.d519.s3.e1         testosterone       drug  False      NaN  \n",
       "1  DDI-DrugBank.d297.s1.e1               nsaids      group  False      NaN  \n",
       "2  DDI-DrugBank.d297.s1.e2      corticosteroids      group  False      NaN  \n",
       "3  DDI-DrugBank.d297.s1.e3  tnf blocking agents      group  False      NaN  \n",
       "4  DDI-DrugBank.d297.s1.e4            abatacept       drug  False      NaN  "
      ]
     },
     "execution_count": 58,
     "metadata": {},
     "output_type": "execute_result"
    }
   ],
   "source": [
    "mini_set"
   ]
  },
  {
   "cell_type": "code",
   "execution_count": 48,
   "metadata": {},
   "outputs": [
    {
     "data": {
      "text/plain": [
       "27875"
      ]
     },
     "execution_count": 48,
     "metadata": {},
     "output_type": "execute_result"
    }
   ],
   "source": [
    "len(train_data)"
   ]
  }
 ],
 "metadata": {
  "kernelspec": {
   "display_name": "Python 3",
   "language": "python",
   "name": "python3"
  },
  "language_info": {
   "codemirror_mode": {
    "name": "ipython",
    "version": 3
   },
   "file_extension": ".py",
   "mimetype": "text/x-python",
   "name": "python",
   "nbconvert_exporter": "python",
   "pygments_lexer": "ipython3",
   "version": "3.6.1"
  }
 },
 "nbformat": 4,
 "nbformat_minor": 2
}
